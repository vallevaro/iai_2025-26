{
 "cells": [
  {
   "cell_type": "code",
   "execution_count": 3,
   "metadata": {},
   "outputs": [],
   "source": [
    "#Input Graph\n",
    "graph = {\"S\": [\"A\", \"D\"], \"A\": [\"S\", \"B\", \"C\"],\n",
    "          \"B\": [\"A\", \"C\", \"D\", \"E\"], \"C\": [\"A\", \"B\", \"G\"],\n",
    "          \"D\": [\"S\", \"B\", \"E\"], \"E\": [\"B\", \"D\", \"G\"], \"G\": [\"C\", \"E\"]}\n",
    "#Input Heuristic\n",
    "heuristic = {\"S\": 7, \"A\": 9, \"B\": 4, \"C\": 2, \"D\": 5, \"E\": 3, \"G\": 0}"
   ]
  },
  {
   "cell_type": "code",
   "execution_count": 4,
   "metadata": {},
   "outputs": [
    {
     "name": "stdout",
     "output_type": "stream",
     "text": [
      "Path given by greedy best first search:  (['S', 'D', 'B', 'C', 'G'], 11)\n"
     ]
    }
   ],
   "source": [
    "def greedyBestFirstSearch(graph, start, goal, cost=100):\n",
    "    \"\"\" This Function take Input Graph, Starting State, Goal State and Cost\"\"\"\n",
    "    #Initializing Empty List Name Path\n",
    "    path = []\n",
    "    #Initializing total variable to calculate total cost\n",
    "    total = 0\n",
    "    #While goal is not reached\n",
    "    while goal not in path:\n",
    "        #If starting node not in path, add it to path.\n",
    "        if start not in path:\n",
    "            path.append(start)\n",
    "        child = graph[start]\n",
    "        #For each neighbor of starting node\n",
    "        for i in child:\n",
    "            #If heuristic of node is smaller than cost, then set heuristic as cost and neighbor node as starting node.\n",
    "            if heuristic[i] < cost:\n",
    "                cost = heuristic[i]\n",
    "                start = i\n",
    "        #Calculate total as sum of total and cost.\n",
    "        total = total + cost\n",
    "    return path,total\n",
    "    \n",
    "print(\"Path given by greedy best first search: \",greedyBestFirstSearch(graph, \"S\", \"G\"))\n",
    "\n",
    "\n"
   ]
  },
  {
   "cell_type": "code",
   "execution_count": null,
   "metadata": {},
   "outputs": [],
   "source": []
  }
 ],
 "metadata": {
  "kernelspec": {
   "display_name": "IA2425",
   "language": "python",
   "name": "python3"
  },
  "language_info": {
   "codemirror_mode": {
    "name": "ipython",
    "version": 3
   },
   "file_extension": ".py",
   "mimetype": "text/x-python",
   "name": "python",
   "nbconvert_exporter": "python",
   "pygments_lexer": "ipython3",
   "version": "3.10.14"
  }
 },
 "nbformat": 4,
 "nbformat_minor": 2
}
