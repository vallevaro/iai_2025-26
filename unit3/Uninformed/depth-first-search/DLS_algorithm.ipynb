{
 "cells": [
  {
   "cell_type": "markdown",
   "metadata": {},
   "source": [
    "**DEPTH-LIMITED SEARCH**"
   ]
  },
  {
   "cell_type": "code",
   "execution_count": 213,
   "metadata": {},
   "outputs": [],
   "source": [
    "import matplotlib.pyplot as plt"
   ]
  },
  {
   "cell_type": "code",
   "execution_count": 214,
   "metadata": {},
   "outputs": [],
   "source": [
    "\n",
    "grid = [\n",
    "    [1, 0, 0, 0, 1],\n",
    "    [0, 0, 1, 0, 0],\n",
    "    [0, 1, 0, 1, 0],\n",
    "    [0, 0, 0, 1, 0],\n",
    "    [0, 1, 0, 0, 0]\n",
    "]\n"
   ]
  },
  {
   "cell_type": "code",
   "execution_count": 226,
   "metadata": {},
   "outputs": [],
   "source": [
    "# Define initial and goal positions\n",
    "initial_position = (0,1)\n",
    "goal_position = (4,4)"
   ]
  },
  {
   "cell_type": "code",
   "execution_count": 227,
   "metadata": {},
   "outputs": [],
   "source": [
    "# Define problem representation\n",
    "class Problem:\n",
    "    def __init__(self, grid, initial, goal):\n",
    "        self.grid = grid\n",
    "        self.initial_state = initial\n",
    "        self.goal_state = goal\n",
    "\n",
    "    def is_goal(self, state):\n",
    "        return state == self.goal_state\n",
    "\n",
    "    def expand(self, state):\n",
    "        # Define possible movements: up, down, left, right\n",
    "        movements = [(0, -1), (0, 1), (-1, 0), (1, 0)]\n",
    "        valid_moves = []\n",
    "        for move in movements:\n",
    "            new_x = state[0] + move[0]\n",
    "            new_y = state[1] + move[1]\n",
    "            # Check if the new position is within the grid and not an obstacle\n",
    "            if 0 <= new_x < len(self.grid) and 0 <= new_y < len(self.grid[0]) and self.grid[new_x][new_y] == 0:\n",
    "                valid_moves.append((new_x, new_y))\n",
    "        return valid_moves"
   ]
  },
  {
   "cell_type": "code",
   "execution_count": 228,
   "metadata": {},
   "outputs": [],
   "source": [
    "# DLS algorithm\n",
    "def depth_limited_search(problem, depth_limit):\n",
    "    return recursive_dls(problem.initial_state, problem, depth_limit)\n",
    "\n",
    "def recursive_dls(node, problem, depth_limit):\n",
    "    if problem.is_goal(node):\n",
    "        return [node]\n",
    "    elif depth_limit == 0:\n",
    "        return \"cutoff\"\n",
    "    else:\n",
    "        for child in problem.expand(node):\n",
    "            result = recursive_dls(child, problem, depth_limit - 1)\n",
    "            if result == \"cutoff\":\n",
    "                continue\n",
    "            elif result != \"failure\":\n",
    "                return [node] + result\n",
    "        return \"failure\""
   ]
  },
  {
   "cell_type": "code",
   "execution_count": 229,
   "metadata": {},
   "outputs": [],
   "source": [
    "# Create problem instance\n",
    "problem = Problem(grid, initial_position, goal_position)"
   ]
  },
  {
   "cell_type": "code",
   "execution_count": 230,
   "metadata": {},
   "outputs": [
    {
     "name": "stdout",
     "output_type": "stream",
     "text": [
      "Path found: [(0, 1), (0, 2), (0, 1), (0, 2), (0, 3), (1, 3), (1, 4), (2, 4), (3, 4), (4, 4)]\n"
     ]
    }
   ],
   "source": [
    "# Find path using DLS with depth limit 10\n",
    "depth_limit = 10\n",
    "path = depth_limited_search(problem, depth_limit)\n",
    "# Output path\n",
    "if path == \"failure\":\n",
    "    print(\"No path found within the depth limit.\")\n",
    "elif path == \"cutoff\":\n",
    "    print(\"Search terminated due to depth limit.\")\n",
    "else:\n",
    "    print(\"Path found:\", path)"
   ]
  },
  {
   "cell_type": "code",
   "execution_count": 231,
   "metadata": {},
   "outputs": [],
   "source": [
    "# Create problem instance\n",
    "problem = Problem(grid, initial_position, goal_position)"
   ]
  },
  {
   "cell_type": "code",
   "execution_count": 237,
   "metadata": {},
   "outputs": [
    {
     "name": "stdout",
     "output_type": "stream",
     "text": [
      "Path found: [(0, 1), (0, 2), (0, 1), (0, 2), (0, 3), (1, 3), (1, 4), (2, 4), (3, 4), (4, 4)]\n"
     ]
    }
   ],
   "source": [
    "# Find path using DLS with depth limit 10\n",
    "depth_limit = 10\n",
    "path = depth_limited_search(problem, depth_limit)\n",
    "# Output path\n",
    "if path == \"failure\":\n",
    "    print(\"No path found within the depth limit.\")\n",
    "elif path == \"cutoff\":\n",
    "    print(\"Search terminated due to depth limit.\")\n",
    "else:\n",
    "    print(\"Path found:\", path)"
   ]
  },
  {
   "cell_type": "code",
   "execution_count": 241,
   "metadata": {},
   "outputs": [],
   "source": [
    "import matplotlib.pyplot as plt\n",
    "\n",
    "# Visualization code\n",
    "def visualize_path(grid, path):\n",
    "    fig, ax = plt.subplots()\n",
    "    # Create a grid with the same dimensions\n",
    "    nrows, ncols = len(grid), len(grid[0])\n",
    "    ax.set_xticks([x - 0.5 for x in range(0, ncols)], minor=True)\n",
    "    ax.set_yticks([y - 0.5 for y in range(0, nrows)], minor=True)\n",
    "    ax.grid(which=\"minor\", color=\"black\", linestyle='-', linewidth=2)\n",
    "    ax.imshow(grid, cmap='Greys', interpolation='none')\n",
    "    \n",
    "    # Highlight the path\n",
    "    if path:\n",
    "        for (x, y) in path:\n",
    "            ax.add_patch(plt.Circle((y, x), radius=0.3, color='blue'))\n",
    "    \n",
    "    # Highlight initial and goal positions\n",
    "    ax.add_patch(plt.Circle((initial_position[0], initial_position[1]), radius=0.3, color='green'))\n",
    "    ax.add_patch(plt.Circle((goal_position[0], goal_position[1]), radius=0.3, color='red'))\n",
    "    \n",
    "    plt.gca().invert_yaxis()\n",
    "    plt.title(\"Original Grid with DLS Path\")\n",
    "    plt.show()"
   ]
  },
  {
   "cell_type": "code",
   "execution_count": 242,
   "metadata": {},
   "outputs": [],
   "source": [
    " # Visualization of the original grid if no path found\n",
    "def visualize_grid(grid):\n",
    "    fig, ax = plt.subplots()\n",
    "    # Create a grid with the same dimensions\n",
    "    nrows, ncols = len(grid), len(grid[0])\n",
    "    ax.set_xticks([x - 0.5 for x in range(1, ncols)], minor=True)\n",
    "    ax.set_yticks([y - 0.5 for y in range(1, nrows)], minor=True)\n",
    "    ax.grid(which=\"minor\", color=\"black\", linestyle='-', linewidth=2)\n",
    "    ax.imshow(grid, cmap='Greys', interpolation='none')\n",
    "    \n",
    "    # Highlight initial and goal positions\n",
    "    ax.add_patch(plt.Circle((initial_position[0], initial_position[1]), radius=0.3, color='green'))\n",
    "    ax.add_patch(plt.Circle((goal_position[0], goal_position[1]), radius=0.3, color='red'))\n",
    "    \n",
    "    plt.gca().invert_yaxis()\n",
    "    plt.title(\"Original Grid\")\n",
    "    plt.show()"
   ]
  },
  {
   "cell_type": "code",
   "execution_count": 243,
   "metadata": {},
   "outputs": [
    {
     "data": {
      "image/png": "[encoded data removed]",
      "text/plain": [
       "<Figure size 640x480 with 1 Axes>"
      ]
     },
     "metadata": {},
     "output_type": "display_data"
    }
   ],
   "source": [
    "visualize_grid(grid)"
   ]
  },
  {
   "cell_type": "code",
   "execution_count": 244,
   "metadata": {},
   "outputs": [
    {
     "data": {
      "image/png": "[encoded data removed]",
      "text/plain": [
       "<Figure size 640x480 with 1 Axes>"
      ]
     },
     "metadata": {},
     "output_type": "display_data"
    }
   ],
   "source": [
    "visualize_path(grid, path)"
   ]
  },
  {
   "cell_type": "code",
   "execution_count": null,
   "metadata": {},
   "outputs": [],
   "source": []
  },
  {
   "cell_type": "code",
   "execution_count": null,
   "metadata": {},
   "outputs": [],
   "source": []
  }
 ],
 "metadata": {
  "kernelspec": {
   "display_name": "MLMIC24",
   "language": "python",
   "name": "python3"
  },
  "language_info": {
   "codemirror_mode": {
    "name": "ipython",
    "version": 3
   },
   "file_extension": ".py",
   "mimetype": "text/x-python",
   "name": "python",
   "nbconvert_exporter": "python",
   "pygments_lexer": "ipython3",
   "version": "3.10.13"
  }
 },
 "nbformat": 4,
 "nbformat_minor": 2
}
