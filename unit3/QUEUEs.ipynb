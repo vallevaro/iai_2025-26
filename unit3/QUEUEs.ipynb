{
 "cells": [
  {
   "cell_type": "markdown",
   "metadata": {},
   "source": [
    "**1. Build a FIFO queue**"
   ]
  },
  {
   "cell_type": "code",
   "execution_count": 1,
   "metadata": {},
   "outputs": [],
   "source": [
    "class FIFOQueue:\n",
    "    def __init__(self):\n",
    "        self.queue = []\n",
    "    \n",
    "    def enqueue(self, item):\n",
    "        self.queue.append(item)\n",
    "    \n",
    "    def dequeue(self):\n",
    "        if not self.is_empty():\n",
    "            return self.queue.pop(0)\n",
    "        else:\n",
    "            return None\n",
    "    \n",
    "    def is_empty(self):\n",
    "        return len(self.queue) == 0"
   ]
  },
  {
   "cell_type": "code",
   "execution_count": 2,
   "metadata": {},
   "outputs": [],
   "source": [
    "q = FIFOQueue()"
   ]
  },
  {
   "cell_type": "code",
   "execution_count": 3,
   "metadata": {},
   "outputs": [],
   "source": [
    "q.enqueue(10)"
   ]
  },
  {
   "cell_type": "code",
   "execution_count": 4,
   "metadata": {},
   "outputs": [],
   "source": [
    "q.enqueue(20)"
   ]
  },
  {
   "cell_type": "code",
   "execution_count": 5,
   "metadata": {},
   "outputs": [
    {
     "data": {
      "text/plain": [
       "[10, 20]"
      ]
     },
     "execution_count": 5,
     "metadata": {},
     "output_type": "execute_result"
    }
   ],
   "source": [
    "q.queue"
   ]
  },
  {
   "cell_type": "code",
   "execution_count": 12,
   "metadata": {},
   "outputs": [],
   "source": [
    "# Example usage\n",
    "q = FIFOQueue()\n",
    "q.enqueue(10)\n",
    "q.enqueue(20)\n",
    "q.enqueue(30)\n",
    "\n",
    "\n",
    "q.dequeue()\n",
    "q.dequeue()\n",
    "q.dequeue()\n",
    "q.dequeue()  # This will show that the queue is empty"
   ]
  },
  {
   "cell_type": "markdown",
   "metadata": {},
   "source": [
    "---"
   ]
  },
  {
   "cell_type": "code",
   "execution_count": 1,
   "metadata": {},
   "outputs": [],
   "source": [
    "import queue"
   ]
  },
  {
   "cell_type": "code",
   "execution_count": 2,
   "metadata": {},
   "outputs": [],
   "source": [
    "#FIFO QUEUE\n",
    "q1= queue.Queue()"
   ]
  },
  {
   "cell_type": "code",
   "execution_count": 3,
   "metadata": {},
   "outputs": [],
   "source": [
    "#LIFO QUEUE\n",
    "q2 = queue.LifoQueue()"
   ]
  },
  {
   "cell_type": "code",
   "execution_count": 4,
   "metadata": {},
   "outputs": [
    {
     "name": "stdout",
     "output_type": "stream",
     "text": [
      "True\n"
     ]
    }
   ],
   "source": [
    "q1 = queue.Queue(5) #The max size is 5.\n",
    "q1.put(1)\n",
    "q1.put(2)\n",
    "q1.put(3)\n",
    "q1.put(4)\n",
    "q1.put(5)\n",
    "print(q1.full()) # will return true."
   ]
  },
  {
   "cell_type": "code",
   "execution_count": 1,
   "metadata": {},
   "outputs": [
    {
     "name": "stdout",
     "output_type": "stream",
     "text": [
      "After append: deque(['A', 'B'])\n"
     ]
    }
   ],
   "source": [
    "from collections import deque\n",
    "\n",
    "# Create an empty deque\n",
    "dq = deque()\n",
    "\n",
    "# Append to the right (like list.append)\n",
    "dq.append(\"A\")\n",
    "dq.append(\"B\")\n",
    "print(\"After append:\", dq)   # deque(['A', 'B'])\n"
   ]
  },
  {
   "cell_type": "code",
   "execution_count": 2,
   "metadata": {},
   "outputs": [
    {
     "name": "stdout",
     "output_type": "stream",
     "text": [
      "After appendleft: deque(['C', 'A', 'B'])\n"
     ]
    }
   ],
   "source": [
    "# Append to the left\n",
    "dq.appendleft(\"C\")\n",
    "print(\"After appendleft:\", dq)  # deque(['C', 'A', 'B'])"
   ]
  },
  {
   "cell_type": "code",
   "execution_count": 3,
   "metadata": {},
   "outputs": [
    {
     "name": "stdout",
     "output_type": "stream",
     "text": [
      "Popped from right: B\n",
      "Now: deque(['C', 'A'])\n"
     ]
    }
   ],
   "source": [
    "# Pop from the right\n",
    "x = dq.pop()\n",
    "print(\"Popped from right:\", x)  # 'B'\n",
    "print(\"Now:\", dq)               # deque(['C', 'A'])"
   ]
  },
  {
   "cell_type": "code",
   "execution_count": 4,
   "metadata": {},
   "outputs": [
    {
     "name": "stdout",
     "output_type": "stream",
     "text": [
      "Popped from left: C\n",
      "Now: deque(['A'])\n"
     ]
    }
   ],
   "source": [
    "\n",
    "# Pop from the left\n",
    "y = dq.popleft()\n",
    "print(\"Popped from left:\", y)   # 'C'\n",
    "print(\"Now:\", dq)               # deque(['A'])"
   ]
  },
  {
   "cell_type": "code",
   "execution_count": 5,
   "metadata": {},
   "outputs": [
    {
     "name": "stdout",
     "output_type": "stream",
     "text": [
      "After extend: deque(['A', 'D', 'E', 'F'])\n"
     ]
    }
   ],
   "source": [
    "# Extend with multiple elements\n",
    "dq.extend([\"D\", \"E\", \"F\"])\n",
    "print(\"After extend:\", dq)      # deque(['A', 'D', 'E', 'F'])"
   ]
  },
  {
   "cell_type": "code",
   "execution_count": 6,
   "metadata": {},
   "outputs": [
    {
     "name": "stdout",
     "output_type": "stream",
     "text": [
      "After rotate(1): deque(['F', 'A', 'D', 'E'])\n",
      "After rotate(-2): deque(['D', 'E', 'F', 'A'])\n"
     ]
    }
   ],
   "source": [
    "# Rotate (positive = right, negative = left)\n",
    "dq.rotate(1)\n",
    "print(\"After rotate(1):\", dq)   # deque(['F', 'A', 'D', 'E'])\n",
    "dq.rotate(-2)\n",
    "print(\"After rotate(-2):\", dq)  # deque(['D', 'E', 'F', 'A'])"
   ]
  },
  {
   "cell_type": "code",
   "execution_count": 7,
   "metadata": {},
   "outputs": [
    {
     "name": "stdout",
     "output_type": "stream",
     "text": [
      "Queue after enqueuing: deque(['A', 'B', 'C'])\n",
      "Dequeue: A\n",
      "Now: deque(['B', 'C'])\n"
     ]
    }
   ],
   "source": [
    "#FIFO QUEUE\n",
    "\n",
    "fifo = deque()\n",
    "\n",
    "# Enqueue (append to the right)\n",
    "fifo.append(\"A\")\n",
    "fifo.append(\"B\")\n",
    "fifo.append(\"C\")\n",
    "print(\"Queue after enqueuing:\", fifo)  # A → B → C\n",
    "\n",
    "# Dequeue (pop from the left)\n",
    "print(\"Dequeue:\", fifo.popleft())      # A\n",
    "print(\"Now:\", fifo)                    # B → C\n"
   ]
  },
  {
   "cell_type": "code",
   "execution_count": 9,
   "metadata": {},
   "outputs": [
    {
     "name": "stdout",
     "output_type": "stream",
     "text": [
      "Stack after pushing: deque(['A', 'B', 'C'])\n",
      "Pop: C\n",
      "Now: deque(['A', 'B'])\n"
     ]
    }
   ],
   "source": [
    "#LIFO QUEUE\n",
    "\n",
    "lifo = deque()\n",
    "\n",
    "# Push (append to the right)\n",
    "lifo.append(\"A\")\n",
    "lifo.append(\"B\")\n",
    "lifo.append(\"C\")\n",
    "print(\"Stack after pushing:\", lifo)  # A → B → C (C on top)\n",
    "\n",
    "# Pop (remove from the right)\n",
    "print(\"Pop:\", lifo.pop())            # C\n",
    "print(\"Now:\", lifo)                  # A → B\n"
   ]
  },
  {
   "cell_type": "code",
   "execution_count": null,
   "metadata": {},
   "outputs": [],
   "source": []
  }
 ],
 "metadata": {
  "kernelspec": {
   "display_name": "IA2425",
   "language": "python",
   "name": "python3"
  },
  "language_info": {
   "codemirror_mode": {
    "name": "ipython",
    "version": 3
   },
   "file_extension": ".py",
   "mimetype": "text/x-python",
   "name": "python",
   "nbconvert_exporter": "python",
   "pygments_lexer": "ipython3",
   "version": "3.10.14"
  }
 },
 "nbformat": 4,
 "nbformat_minor": 2
}
