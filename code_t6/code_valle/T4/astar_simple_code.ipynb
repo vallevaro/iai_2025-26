{
 "cells": [
  {
   "cell_type": "markdown",
   "metadata": {},
   "source": [
    "---"
   ]
  },
  {
   "cell_type": "markdown",
   "metadata": {},
   "source": [
    "We will implement a basic version of the A* algorithm for pathfinding in a 2D grid/graph.\n",
    "\n",
    "Our implementation will have the following key components:\n",
    "\n",
    "- Node class to represent each node on grid\n",
    "\n",
    "- AStar class with the main search algorithm\n",
    "\n",
    "- Helper functions for heuristics, reconstructing path, etc.\n",
    "\n",
    "Let’s go through each section step-by-step:"
   ]
  },
  {
   "cell_type": "markdown",
   "metadata": {},
   "source": [
    "The __init__() constructor takes a position tuple, g_cost and h_cost values. It calculates the f_cost and sets the initial parent to None.\n",
    "\n",
    "We’ll also add comparator methods to the Node class so we can compare and sort nodes efficiently:"
   ]
  },
  {
   "cell_type": "code",
   "execution_count": 5,
   "metadata": {},
   "outputs": [],
   "source": [
    "class Node:\n",
    "\n",
    "    def __init__(self, pos: tuple, g_cost: float, h_cost: float):\n",
    "        self.pos = pos # (x, y) tuple\n",
    "        self.g_cost = g_cost\n",
    "        self.h_cost = h_cost\n",
    "        self.f_cost = self.g_cost + self.h_cost\n",
    "\n",
    "        self.parent = None #previous node\n",
    "\n",
    "    def __lt__(self, other):\n",
    "        return self.f_cost < other.f_cost"
   ]
  },
  {
   "cell_type": "markdown",
   "metadata": {},
   "source": [
    "Next, we’ll implement the main A* search logic inside an AStar class:"
   ]
  },
  {
   "cell_type": "markdown",
   "metadata": {},
   "source": [
    "The main search() method takes the start and goal nodes as input. We add the start node to the open list to begin.\n",
    "\n",
    "It then loops while there are nodes in the open list, sorting it to get the lowest f-cost node each iteration.\n",
    "\n",
    "We pop the node off and add it to closed. Check if it is our goal, return the path if so.\n",
    "\n",
    "Otherwise, look at the current node’s neighbors. For each valid new neighbor, calculate costs and update its values if we found a lower cost path."
   ]
  },
  {
   "cell_type": "code",
   "execution_count": 6,
   "metadata": {},
   "outputs": [],
   "source": [
    "class Node:\n",
    "\n",
    "    def __init__(self, pos: tuple, g_cost: float, h_cost: float):\n",
    "        self.pos = pos # (x, y) tuple\n",
    "        self.g_cost = g_cost\n",
    "        self.h_cost = h_cost\n",
    "        self.f_cost = self.g_cost + self.h_cost\n",
    "\n",
    "        self.parent = None #previous node\n",
    "\n",
    "    def __lt__(self, other):\n",
    "        return self.f_cost < other.f_cost\n",
    "\n",
    "class AStar:\n",
    "\n",
    "    def __init__(self, map_grid):\n",
    "        self.open = [] #open list\n",
    "        self.closed = [] #closed list\n",
    "        self.map_grid = map_grid\n",
    "\n",
    "    def search(self, start_node, goal_node):\n",
    "\n",
    "        self.open.append(start_node)\n",
    "\n",
    "        while self.open:\n",
    "\n",
    "            #sort open list to get node with lowest cost first\n",
    "            self.open.sort()\n",
    "            current_node = self.open.pop(0)\n",
    "\n",
    "            #add current node to closed list\n",
    "            self.closed.append(current_node)\n",
    "\n",
    "            if current_node == goal_node:\n",
    "                #reached goal node\n",
    "                return self.reconstruct_path(goal_node)\n",
    "\n",
    "            #check every neighbor\n",
    "            neighbors = self.get_neighbors(current_node)\n",
    "\n",
    "            for neighbor in neighbors:\n",
    "                if neighbor in self.closed:\n",
    "                    continue\n",
    "\n",
    "                g_cost = current_node.g_cost + 1 #cost to move\n",
    "                h_cost = self.heuristic(neighbor, goal_node)\n",
    "                f_cost = g_cost + h_cost\n",
    "\n",
    "                #check if we found cheaper path\n",
    "                if neighbor in self.open:\n",
    "                    if neighbor.f_cost > f_cost:\n",
    "                        self.update_node(neighbor, g_cost, h_cost)\n",
    "                else:\n",
    "                    self.update_node(neighbor, g_cost, h_cost)\n",
    "\n",
    "        #no path found\n",
    "        return None\n",
    "    \n",
    "    def get_neighbors(self, node):\n",
    "        pass #calculate valid adjacent nodes\n",
    "\n",
    "    def heuristic(self, node, goal):\n",
    "        pass #estimate cost to goal\n",
    "\n",
    "    def reconstruct_path(self, goal_node):\n",
    "        pass #follow parents back to start\n",
    "\n",
    "    def update_node(self, node, g_cost, h_cost):\n",
    "        pass #update if we find better path\n",
    "\n",
    "    def get_neighbors(self, node):\n",
    "        dirs = [[1,0], [0,1], [-1,0], [0,-1]]\n",
    "        neighbors = []\n",
    "\n",
    "        for dir in dirs:\n",
    "            neighbor_pos = (node.pos[0] + dir[0], node.pos[1] + dir[1])\n",
    "\n",
    "            #check if new pos in bounds\n",
    "            if (0 <= neighbor_pos[0] < self.map_grid.shape[0] and\n",
    "                0 <= neighbor_pos[1] < self.map_grid.shape[1]):\n",
    "\n",
    "                #check if traversable\n",
    "                if self.map_grid[neighbor_pos] != 1:\n",
    "                    neighbors.append(neighbor_pos)\n",
    "\n",
    "        return neighbors\n",
    "    # For the heuristic, we’ll use the Manhattan distance, which is the absolute grid distance between two points:\n",
    "    def heuristic(self, node, goal):\n",
    "        d = abs(node.pos[0] - goal.pos[0]) + abs(node.pos[1] - goal.pos[1])\n",
    "        return d\n",
    "    \n",
    "    #To reconstruct the path after finding the goal node:\n",
    "    def reconstruct_path(self, start_node, goal_node):\n",
    "        path = [goal_node]\n",
    "        current = goal_node\n",
    "\n",
    "        while current.parent != start_node:\n",
    "            path.append(current.parent)\n",
    "            current = current.parent\n",
    "\n",
    "        return path[::-1] #reverse path\n",
    "\n",
    "    # We follow parent nodes backwards until the start, then reverse the list.\n",
    "    def update_node(self, node, current_node, g_cost, h_cost):\n",
    "        node.g_cost = g_cost\n",
    "        node.h_cost = h_cost\n",
    "        node.f_cost = g_cost + h_cost\n",
    "        node.parent = current_node\n",
    "\n",
    "    #This updates the node’s cost values if the new f-cost is lower.\n",
    "\n",
    "    # And that covers the core A* algorithm implementation in Python!\n",
    "import numpy as np\n",
    "\n",
    "grid = np.array([\n",
    "    [0,0,0,0,1],\n",
    "    [0,0,0,0,0],\n",
    "    [0,0,1,0,0],\n",
    "    [0,0,1,0,0],\n",
    "    [0,0,0,0,0]\n",
    "])\n",
    "\n",
    "start = Node((0,0))\n",
    "goal = Node((len(grid)-1, len(grid[0])-1))\n",
    "\n",
    "astar = AStar(grid)\n",
    "path = astar.search(start, goal)\n",
    "     "
   ]
  },
  {
   "cell_type": "code",
   "execution_count": 7,
   "metadata": {},
   "outputs": [],
   "source": [
    "import numpy as np"
   ]
  },
  {
   "cell_type": "code",
   "execution_count": 8,
   "metadata": {},
   "outputs": [
    {
     "ename": "TypeError",
     "evalue": "Node.__init__() missing 2 required positional arguments: 'g_cost' and 'h_cost'",
     "output_type": "error",
     "traceback": [
      "\u001b[1;31m---------------------------------------------------------------------------\u001b[0m",
      "\u001b[1;31mTypeError\u001b[0m                                 Traceback (most recent call last)",
      "Cell \u001b[1;32mIn[8], line 9\u001b[0m\n\u001b[0;32m      1\u001b[0m grid \u001b[38;5;241m=\u001b[39m np\u001b[38;5;241m.\u001b[39marray([\n\u001b[0;32m      2\u001b[0m     [\u001b[38;5;241m0\u001b[39m,\u001b[38;5;241m0\u001b[39m,\u001b[38;5;241m0\u001b[39m,\u001b[38;5;241m0\u001b[39m,\u001b[38;5;241m1\u001b[39m],\n\u001b[0;32m      3\u001b[0m     [\u001b[38;5;241m0\u001b[39m,\u001b[38;5;241m0\u001b[39m,\u001b[38;5;241m0\u001b[39m,\u001b[38;5;241m0\u001b[39m,\u001b[38;5;241m0\u001b[39m],\n\u001b[1;32m   (...)\u001b[0m\n\u001b[0;32m      6\u001b[0m     [\u001b[38;5;241m0\u001b[39m,\u001b[38;5;241m0\u001b[39m,\u001b[38;5;241m0\u001b[39m,\u001b[38;5;241m0\u001b[39m,\u001b[38;5;241m0\u001b[39m]\n\u001b[0;32m      7\u001b[0m ])\n\u001b[1;32m----> 9\u001b[0m start \u001b[38;5;241m=\u001b[39m \u001b[43mNode\u001b[49m\u001b[43m(\u001b[49m\u001b[43m(\u001b[49m\u001b[38;5;241;43m0\u001b[39;49m\u001b[43m,\u001b[49m\u001b[38;5;241;43m0\u001b[39;49m\u001b[43m)\u001b[49m\u001b[43m)\u001b[49m\n\u001b[0;32m     10\u001b[0m goal \u001b[38;5;241m=\u001b[39m Node((\u001b[38;5;28mlen\u001b[39m(grid)\u001b[38;5;241m-\u001b[39m\u001b[38;5;241m1\u001b[39m, \u001b[38;5;28mlen\u001b[39m(grid[\u001b[38;5;241m0\u001b[39m])\u001b[38;5;241m-\u001b[39m\u001b[38;5;241m1\u001b[39m))\n\u001b[0;32m     12\u001b[0m astar \u001b[38;5;241m=\u001b[39m AStar(grid)\n",
      "\u001b[1;31mTypeError\u001b[0m: Node.__init__() missing 2 required positional arguments: 'g_cost' and 'h_cost'"
     ]
    }
   ],
   "source": [
    "grid = np.array([\n",
    "    [0,0,0,0,1],\n",
    "    [0,0,0,0,0],\n",
    "    [0,0,1,0,0],\n",
    "    [0,0,1,0,0],\n",
    "    [0,0,0,0,0]\n",
    "])\n",
    "\n",
    "start = Node((0,0))\n",
    "goal = Node((len(grid)-1, len(grid[0])-1))\n",
    "\n",
    "astar = AStar(grid)\n",
    "path = astar.search(start, goal)\n"
   ]
  },
  {
   "cell_type": "code",
   "execution_count": null,
   "metadata": {},
   "outputs": [],
   "source": []
  }
 ],
 "metadata": {
  "kernelspec": {
   "display_name": "IA2425",
   "language": "python",
   "name": "python3"
  },
  "language_info": {
   "codemirror_mode": {
    "name": "ipython",
    "version": 3
   },
   "file_extension": ".py",
   "mimetype": "text/x-python",
   "name": "python",
   "nbconvert_exporter": "python",
   "pygments_lexer": "ipython3",
   "version": "3.10.14"
  }
 },
 "nbformat": 4,
 "nbformat_minor": 2
}
