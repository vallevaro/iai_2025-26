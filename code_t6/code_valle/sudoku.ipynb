{
 "cells": [
  {
   "cell_type": "markdown",
   "metadata": {},
   "source": [
    "**SUDOKU**"
   ]
  },
  {
   "cell_type": "code",
   "execution_count": 1,
   "metadata": {},
   "outputs": [
    {
     "name": "stdout",
     "output_type": "stream",
     "text": [
      "Solved Sudoku board:\n",
      "5 3 4 6 7 8 9 1 2\n",
      "6 7 2 1 9 5 3 4 8\n",
      "1 9 8 3 4 2 5 6 7\n",
      "8 2 6 7 5 1 4 9 3\n",
      "4 5 9 8 6 3 7 2 1\n",
      "7 1 3 9 2 4 8 5 6\n",
      "9 6 1 5 3 7 2 8 4\n",
      "2 8 7 4 1 9 6 3 5\n",
      "3 4 5 2 8 6 1 7 9\n"
     ]
    }
   ],
   "source": [
    "# Function to check if it's valid to place a number in a specific cell\n",
    "def is_valid(board, row, col, num):\n",
    "    # Check if the number is in the current row\n",
    "    for i in range(9):\n",
    "        if board[row][i] == num:\n",
    "            return False\n",
    "\n",
    "    # Check if the number is in the current column\n",
    "    for i in range(9):\n",
    "        if board[i][col] == num:\n",
    "            return False\n",
    "    \n",
    "    # Check if the number is in the current 3x3 subgrid\n",
    "    start_row, start_col = 3 * (row // 3), 3 * (col // 3)\n",
    "    for i in range(3):\n",
    "        for j in range(3):\n",
    "            if board[start_row + i][start_col + j] == num:\n",
    "                return False\n",
    "    \n",
    "    return True\n",
    "\n",
    "# Function to find the next empty cell in the Sudoku board (returns None if no empty cell is found)\n",
    "def find_empty_cell(board):\n",
    "    for row in range(9):\n",
    "        for col in range(9):\n",
    "            if board[row][col] == 0:  # Empty cells are represented by 0\n",
    "                return (row, col)\n",
    "    return None\n",
    "\n",
    "# Backtracking function to solve the Sudoku puzzle\n",
    "def solve_sudoku(board):\n",
    "    # Find the next empty cell\n",
    "    empty_cell = find_empty_cell(board)\n",
    "    if not empty_cell:\n",
    "        return True  # No empty cell left, puzzle is solved\n",
    "    \n",
    "    row, col = empty_cell\n",
    "    \n",
    "    # Try placing digits 1 to 9 in the empty cell\n",
    "    for num in range(1, 10):\n",
    "        if is_valid(board, row, col, num):\n",
    "            board[row][col] = num  # Place the number\n",
    "            \n",
    "            # Recursively try to solve the rest of the board\n",
    "            if solve_sudoku(board):\n",
    "                return True\n",
    "            \n",
    "            # If placing num doesn't lead to a solution, backtrack\n",
    "            board[row][col] = 0\n",
    "    \n",
    "    return False  # Trigger backtracking if no valid number can be placed\n",
    "\n",
    "# Function to print the Sudoku board\n",
    "def print_board(board):\n",
    "    for row in board:\n",
    "        print(\" \".join(str(cell) if cell != 0 else '.' for cell in row))\n",
    "\n",
    "# Example Sudoku puzzle (0 represents empty cells)\n",
    "sudoku_board = [\n",
    "    [5, 3, 0, 0, 7, 0, 0, 0, 0],\n",
    "    [6, 0, 0, 1, 9, 5, 0, 0, 0],\n",
    "    [0, 9, 8, 0, 0, 0, 0, 6, 0],\n",
    "    [8, 0, 0, 0, 0, 0, 0, 0, 3],\n",
    "    [4, 0, 0, 8, 0, 3, 0, 0, 1],\n",
    "    [7, 0, 0, 0, 2, 0, 0, 0, 6],\n",
    "    [0, 6, 0, 0, 0, 0, 2, 8, 0],\n",
    "    [0, 0, 0, 4, 1, 0, 0, 0, 5],\n",
    "    [0, 0, 0, 0, 8, 0, 0, 7, 9]\n",
    "]\n",
    "\n",
    "# Solve the Sudoku puzzle\n",
    "if solve_sudoku(sudoku_board):\n",
    "    print(\"Solved Sudoku board:\")\n",
    "    print_board(sudoku_board)\n",
    "else:\n",
    "    print(\"No solution exists.\")\n"
   ]
  },
  {
   "cell_type": "code",
   "execution_count": null,
   "metadata": {},
   "outputs": [],
   "source": []
  }
 ],
 "metadata": {
  "kernelspec": {
   "display_name": "envml3",
   "language": "python",
   "name": "python3"
  },
  "language_info": {
   "codemirror_mode": {
    "name": "ipython",
    "version": 3
   },
   "file_extension": ".py",
   "mimetype": "text/x-python",
   "name": "python",
   "nbconvert_exporter": "python",
   "pygments_lexer": "ipython3",
   "version": "3.11.7"
  }
 },
 "nbformat": 4,
 "nbformat_minor": 2
}
