{
 "cells": [
  {
   "cell_type": "markdown",
   "metadata": {},
   "source": [
    "**2. Build BDF and expand**"
   ]
  },
  {
   "cell_type": "markdown",
   "metadata": {},
   "source": [
    "**BFS Algorithm:**\n",
    "\n",
    "1. Starting point: Pick a starting node.\n",
    "2. Queueing nodes: Enqueue the starting node and mark it as visited.\n",
    "3. Exploring nodes: Dequeue a node, examine its unvisited neighbors, and enqueue them.\n",
    "4. Expand: Repeat until all reachable nodes are explored.\n"
   ]
  },
  {
   "cell_type": "code",
   "execution_count": 1,
   "metadata": {},
   "outputs": [],
   "source": [
    "import networkx as nx\n",
    "import matplotlib as plt"
   ]
  },
  {
   "cell_type": "code",
   "execution_count": 2,
   "metadata": {},
   "outputs": [],
   "source": [
    "graph = {'A': set(['B', 'C']),\n",
    "         'B': set(['A', 'D', 'E']),\n",
    "         'C': set(['A', 'F']),\n",
    "         'D': set(['B']),\n",
    "         'E': set(['B', 'F']),\n",
    "         'F': set(['C', 'E'])}"
   ]
  },
  {
   "cell_type": "code",
   "execution_count": 3,
   "metadata": {},
   "outputs": [
    {
     "name": "stdout",
     "output_type": "stream",
     "text": [
      "{'A': {'C', 'B'}, 'B': {'A', 'D', 'E'}, 'C': {'A', 'F'}, 'D': {'B'}, 'E': {'B', 'F'}, 'F': {'C', 'E'}}\n"
     ]
    }
   ],
   "source": [
    "print(graph)"
   ]
  },
  {
   "cell_type": "code",
   "execution_count": 4,
   "metadata": {},
   "outputs": [],
   "source": [
    "G = nx.Graph(graph)"
   ]
  },
  {
   "cell_type": "code",
   "execution_count": 5,
   "metadata": {},
   "outputs": [
    {
     "data": {
      "image/png": "[encoded data removed]",
      "text/plain": [
       "<Figure size 640x480 with 1 Axes>"
      ]
     },
     "metadata": {},
     "output_type": "display_data"
    }
   ],
   "source": [
    "nx.draw(G, pos = None, ax = None, with_labels = True,font_size = 20, node_size = 2000, node_color = 'lightgreen')"
   ]
  },
  {
   "cell_type": "markdown",
   "metadata": {},
   "source": [
    "**BEARTH FIRST ALGORITHM (BFT)**"
   ]
  },
  {
   "cell_type": "code",
   "execution_count": 6,
   "metadata": {},
   "outputs": [],
   "source": [
    "def bfs(graph, start):\n",
    "    # Initialize an empty set to keep track of visited vertices\n",
    "    # Initialize the queue with the start vertex to begin the BFS\n",
    "    visited, queue = set(), [start]\n",
    "\n",
    "    # Loop while there are vertices to explore in the queue\n",
    "    while queue:\n",
    "        # Dequeue the first element (FIFO: First In, First Out)\n",
    "        vertex = queue.pop(0)\n",
    "        \n",
    "        # Print the current vertex (for demonstration purposes)\n",
    "        print(vertex)\n",
    "\n",
    "        # If the vertex hasn't been visited yet\n",
    "        if vertex not in visited:\n",
    "            # Add the vertex to the visited set\n",
    "            visited.add(vertex)\n",
    "            \n",
    "            # Add all unvisited neighbors of the current vertex to the end of the queue\n",
    "            # 'graph[vertex]' gives the neighbors, and we subtract the visited ones\n",
    "            queue.extend(graph[vertex] - visited)\n",
    "\n",
    "    # Return the set of visited vertices after the traversal is complete\n",
    "    return visited\n"
   ]
  },
  {
   "cell_type": "code",
   "execution_count": 7,
   "metadata": {},
   "outputs": [
    {
     "name": "stdout",
     "output_type": "stream",
     "text": [
      "B\n",
      "A\n",
      "D\n",
      "E\n",
      "C\n",
      "F\n",
      "F\n"
     ]
    },
    {
     "data": {
      "text/plain": [
       "{'A', 'B', 'C', 'D', 'E', 'F'}"
      ]
     },
     "execution_count": 7,
     "metadata": {},
     "output_type": "execute_result"
    }
   ],
   "source": [
    "bfs(graph, 'B')"
   ]
  },
  {
   "cell_type": "markdown",
   "metadata": {},
   "source": [
    "---"
   ]
  },
  {
   "cell_type": "code",
   "execution_count": 8,
   "metadata": {},
   "outputs": [
    {
     "name": "stdout",
     "output_type": "stream",
     "text": [
      "Visiting node: A\n",
      "Visiting node: B\n",
      "Visiting node: C\n",
      "Visiting node: D\n",
      "Visiting node: E\n",
      "Visiting node: F\n",
      "BFS traversal order: ['A', 'B', 'C', 'D', 'E', 'F']\n"
     ]
    }
   ],
   "source": [
    "class FIFOQueue:\n",
    "    def __init__(self):\n",
    "        self.queue = []\n",
    "    \n",
    "    def enqueue(self, item):\n",
    "        self.queue.append(item)\n",
    "    \n",
    "    def dequeue(self):\n",
    "        if not self.is_empty():\n",
    "            return self.queue.pop(0)\n",
    "        else:\n",
    "            return None\n",
    "    \n",
    "    def is_empty(self):\n",
    "        return len(self.queue) == 0\n",
    "\n",
    "def bfs(graph, start_node):\n",
    "    # Create a queue for BFS and a list to track visited nodes\n",
    "    visited = set()\n",
    "    queue = FIFOQueue()\n",
    "\n",
    "    # Start by enqueuing the starting node and marking it as visited\n",
    "    queue.enqueue(start_node)\n",
    "    visited.add(start_node)\n",
    "\n",
    "    # List to store the order of nodes visited in BFS\n",
    "    bfs_order = []\n",
    "\n",
    "    while not queue.is_empty():\n",
    "        # Dequeue a vertex from the queue\n",
    "        current_node = queue.dequeue()\n",
    "        bfs_order.append(current_node)\n",
    "        print(f\"Visiting node: {current_node}\")\n",
    "\n",
    "        # Explore neighbors of the current node\n",
    "        for neighbor in graph[current_node]:\n",
    "            if neighbor not in visited:\n",
    "                queue.enqueue(neighbor)\n",
    "                visited.add(neighbor)\n",
    "    \n",
    "    return bfs_order\n",
    "\n",
    "# Example graph represented as an adjacency list\n",
    "graph = {\n",
    "    'A': ['B', 'C'],\n",
    "    'B': ['D', 'E'],\n",
    "    'C': ['F'],\n",
    "    'D': [],\n",
    "    'E': ['F'],\n",
    "    'F': []\n",
    "}\n",
    "\n",
    "# Running BFS starting from node 'A'\n",
    "bfs_result = bfs(graph, 'A')\n",
    "print(f\"BFS traversal order: {bfs_result}\")\n"
   ]
  }
 ],
 "metadata": {
  "kernelspec": {
   "display_name": "Python 3",
   "language": "python",
   "name": "python3"
  },
  "language_info": {
   "codemirror_mode": {
    "name": "ipython",
    "version": 3
   },
   "file_extension": ".py",
   "mimetype": "text/x-python",
   "name": "python",
   "nbconvert_exporter": "python",
   "pygments_lexer": "ipython3",
   "version": "3.10.5"
  }
 },
 "nbformat": 4,
 "nbformat_minor": 2
}
