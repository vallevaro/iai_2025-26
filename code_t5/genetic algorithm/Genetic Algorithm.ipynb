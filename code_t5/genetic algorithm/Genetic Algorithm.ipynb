{
 "cells": [
  {
   "cell_type": "code",
   "execution_count": 8,
   "metadata": {},
   "outputs": [],
   "source": [
    "#Import numpy library\n",
    "import numpy as np\n",
    "\n",
    "#Set seed for reproducability\n",
    "np.random.seed(100)"
   ]
  },
  {
   "cell_type": "markdown",
   "metadata": {},
   "source": [
    "We will now proceed to calculate a fitness function that helps us select the best solutions in any population. \n",
    "\n",
    "This fitness function will be the addition of all the inputs times weight in our population. "
   ]
  },
  {
   "cell_type": "code",
   "execution_count": 9,
   "metadata": {},
   "outputs": [],
   "source": [
    "#Calcuate fitness of population\n",
    "\n",
    "def calculate_fitness(inputs, population):\n",
    "    \n",
    "    '''\n",
    "    Description: This function calculates the fitness of our solutions\n",
    "    \n",
    "    Input Arguments: input values and a population of weights\n",
    "    \n",
    "    Output: Fitness - a fitness value\n",
    "    \n",
    "    '''\n",
    "    \n",
    "    fitness = np.sum(population*inputs, axis=1)\n",
    "    return fitness"
   ]
  },
  {
   "cell_type": "markdown",
   "metadata": {},
   "source": [
    "Next, we proceed to choose parents that will mate. This involves choosing the most fit parents in the population according to our fitness value"
   ]
  },
  {
   "cell_type": "code",
   "execution_count": 10,
   "metadata": {},
   "outputs": [],
   "source": [
    "\n",
    "#Choose parents to mate \n",
    "\n",
    "def choose_mating(population, fitness, number_of_parents):\n",
    "    \n",
    "    '''\n",
    "    Description: This function chooses the most fit solutions to mate in order to yield the next generation\n",
    "    \n",
    "    Input Arguments: a population, the fitness and the number of parents required to mate\n",
    "    \n",
    "    Output: \n",
    "    \n",
    "    the parents to mate\n",
    "    '''\n",
    "    \n",
    "    #initialize empty numpy array to hold parents\n",
    "    parents = np.empty((number_of_parents, population.shape[1]))\n",
    "    \n",
    "    #loop to fill the created parents array with the fittest solutions and stop at the required number of parents\n",
    "    for number in range(number_of_parents):\n",
    "        maximum_fitness_index = np.where(fitness == np.max(fitness))\n",
    "        maximum_fitness_index = maximum_fitness_index[0][0]\n",
    "        parents[number, :] = population[maximum_fitness_index, :]\n",
    "        fitness[maximum_fitness_index] = -99999999999\n",
    "        \n",
    "    \n",
    "    return parents"
   ]
  },
  {
   "cell_type": "markdown",
   "metadata": {},
   "source": [
    "We will now proceed to perform a one point cross over on the parent pool at the center"
   ]
  },
  {
   "cell_type": "code",
   "execution_count": 11,
   "metadata": {},
   "outputs": [],
   "source": [
    "#Perform cross over\n",
    "\n",
    "def crossingover(parents, size_of_offspring):\n",
    "    '''\n",
    "    Description: This function performs a one point cross over operation on the parents. \n",
    "    \n",
    "    Input Arguments:\n",
    "    Parents - the parents pool to be crossed over\n",
    "    size of offspring - the size of offspring required\n",
    "    \n",
    "    Output: \n",
    "    \n",
    "    offspring - the crossed over offspring\n",
    "    '''\n",
    "    # initialize an empty numpy array to hold the offsprings\n",
    "    offspring = np.empty(size_of_offspring)\n",
    "    \n",
    "    # specify the point of cross over - at the center in our case\n",
    "    point_of_crossover = np.uint8(size_of_offspring[1]/2)\n",
    "    \n",
    "    #loop over the number of offspring required to get the required offsprings\n",
    "    \n",
    "    for k in range(size_of_offspring[0]):\n",
    "        # get index of first parent to be mated\n",
    "        parent1_index = k%parents.shape[0]\n",
    "        # get index of second parent to be mated\n",
    "        parent2_index = (k+1)%parents.shape[0]\n",
    "        # proceed to assign the first half of the first parents gene to the first half gene of the offspring\n",
    "        offspring[k, 0:point_of_crossover] = parents[parent1_index, 0:point_of_crossover]\n",
    "        # proceed to assign the second half of the second parents gene to the second half gene of the offspring\n",
    "        offspring[k, point_of_crossover:] = parents[parent2_index, point_of_crossover:]\n",
    "        \n",
    "    return offspring"
   ]
  },
  {
   "cell_type": "markdown",
   "metadata": {},
   "source": [
    "Next, we proceed to change a single gene in each  offspring in a random manner so as to induce randomness in the whole process. This is called mutation. "
   ]
  },
  {
   "cell_type": "code",
   "execution_count": 12,
   "metadata": {},
   "outputs": [],
   "source": [
    "#perform mutation\n",
    "\n",
    "def mutation(cross_over_offspring):\n",
    "    \n",
    "    '''\n",
    "    Description: This function performs some random variation to the genes of the \n",
    "    solutions by adding a random bias number.\n",
    "    \n",
    "    Input - \n",
    "    cross_over_offspring - offspring obtained from the cross over function\n",
    "    \n",
    "    Output -\n",
    "    Mutated offspring \n",
    "    \n",
    "    '''\n",
    "    \n",
    "    #loop over the offsprings and add a random bias number to their genes\n",
    "    for number in range(cross_over_offspring.shape[0]):\n",
    "        # Create the random bias number to be used for muation. The arguments taken are the limits(low and high) and the size\n",
    "        random_bias_number = np.random.uniform(-1.5, 1.5, 1)\n",
    "        \n",
    "        #Proceed to mutate by adding the bias number\n",
    "        \n",
    "        cross_over_offspring[number, 3] = cross_over_offspring[number, 3] + random_bias_number\n",
    "    return cross_over_offspring"
   ]
  },
  {
   "cell_type": "markdown",
   "metadata": {},
   "source": [
    "## Proceed to Implement Genetic Algorithm "
   ]
  },
  {
   "cell_type": "markdown",
   "metadata": {},
   "source": [
    "We will now proceed to perform the genetic algorithm on a simple example function by aiming to maximize it. \n",
    "\n",
    "This equation is given as $F(X) = A1X1 + A2X2 + A3X3 + A4X4$\n",
    "\n",
    "Where X1 = 4\n",
    "      X2 = -2\n",
    "      X3 = 3.5\n",
    "      X4 = -4.2\n",
    " All randomly chosen. \n",
    "\n",
    "We will be looking to optimize the values - A1, A2, A3 and A4 in order to maximize the function F(X)\n",
    "\n",
    "We will begin with a set of inputs of X and then specify the number of weights. Then we specify a number of generations to mate through and the best solutions are chosen at the end. \n",
    "\n",
    "The functions created earlier will be combined to create the Genetic Algorithm that will help us yield the maximum over the generations specified. "
   ]
  },
  {
   "cell_type": "code",
   "execution_count": 13,
   "metadata": {
    "scrolled": true
   },
   "outputs": [
    {
     "name": "stdout",
     "output_type": "stream",
     "text": [
      "[[ 0.43404942 -2.21630615 -0.75482409  3.44776132]\n",
      " [-4.95281144 -3.78430879  1.70749085  3.25852755]\n",
      " [-3.6329341   0.75093329  3.91321954 -2.90797878]\n",
      " [-3.1467178  -3.9162311  -2.80302507  4.78623785]\n",
      " [ 3.11683149 -3.28058987  3.16224749 -2.25926253]\n",
      " [-0.68295816  4.4002982   3.17649379 -1.6388805 ]]\n",
      "Generation :  0\n",
      "Best result :  49.028113263774884\n",
      "Generation :  1\n",
      "Best result :  49.028113263774884\n",
      "Generation :  2\n",
      "Best result :  54.00325242758298\n",
      "Generation :  3\n",
      "Best result :  54.00325242758298\n",
      "Generation :  4\n",
      "Best result :  54.62879766910555\n",
      "Generation :  5\n",
      "Best result :  54.62879766910555\n",
      "Generation :  6\n",
      "Best result :  59.076760471603336\n",
      "Generation :  7\n",
      "Best result :  62.218000584459546\n",
      "Generation :  8\n",
      "Best result :  62.218000584459546\n",
      "Generation :  9\n",
      "Best result :  62.218000584459546\n",
      "Generation :  10\n",
      "Best result :  66.27418011668641\n",
      "Generation :  11\n",
      "Best result :  68.72071639374923\n",
      "Generation :  12\n",
      "Best result :  68.72071639374923\n",
      "Generation :  13\n",
      "Best result :  72.97155815076187\n",
      "Generation :  14\n",
      "Best result :  74.69538929898407\n"
     ]
    }
   ],
   "source": [
    "\n",
    "'''\n",
    "Implementing the GA\n",
    "\n",
    "'''\n",
    "# Specify inputs of the equation ( X values)\n",
    "inputs = [4,-2,3.5,-4.2]\n",
    "\n",
    "# Specify the number of weights or multipliers (A values, in our case) for each input which we are looking to optimize\n",
    "number_of_weights = 4\n",
    "\n",
    "# Specify the number of solutions in each generation. Each solution will have the number of weights\n",
    "solutions = 6\n",
    "\n",
    "#Specify the number of parents mating to yield the specified number of solutions\n",
    "number_of_parents_mating = 3\n",
    "\n",
    "# Define the population size based on the number of parents mating and the number of solutions\n",
    "population_size = (solutions,number_of_weights)\n",
    "\n",
    "#randomly create the inital population according to the specified population size\n",
    "new_population = np.random.uniform(low=-5.0, high=5.0, size=population_size)\n",
    "\n",
    "#Print out the initialized population\n",
    "print(new_population)\n",
    "\n",
    "\n",
    "#Specify the number of generations to mutate through \n",
    "number_of_generations = 15\n",
    "\n",
    "#Loop over the specified number of generations\n",
    "\n",
    "for generation in range(number_of_generations):\n",
    "    \n",
    "    #Print the generation in which we are currently looping through to keep track\n",
    "    print(\"Generation : \", generation)\n",
    "    \n",
    "    # Calculate the fitness of the population in the current generation\n",
    "    fitness = calculate_fitness(inputs, new_population)\n",
    "\n",
    "    # Proceed to select the most fit parents to mate\n",
    "    parents = choose_mating(new_population, fitness, \n",
    "                                      number_of_parents_mating)\n",
    "\n",
    "    # Proceed to create offsprings via the one point cross over\n",
    "    crossover = crossingover(parents,\n",
    "                                       size_of_offspring=(population_size[0]-parents.shape[0], number_of_weights))\n",
    "\n",
    "    # Proceed to add random bias to the genes of the created offspring via the mutation function\n",
    "    mutated = mutation(crossover)\n",
    "\n",
    "    # Proceed to create the new population from the parents and the mutated\n",
    "    new_population[0:parents.shape[0], :] = parents\n",
    "    new_population[parents.shape[0]:, :] = mutated\n",
    "\n",
    "    # Get the best or most fit solution in this current generation\n",
    "    print(\"Best result : \", np.max(np.sum(new_population*inputs, axis=1)))\n",
    "\n",
    "\n"
   ]
  },
  {
   "cell_type": "markdown",
   "metadata": {},
   "source": [
    "We will now proceed to obtain the best solution after all generations. We will do this by calculating the fitness of all the solutions in the final generation and then returning the most fit solution amongst all of this. "
   ]
  },
  {
   "cell_type": "code",
   "execution_count": 7,
   "metadata": {},
   "outputs": [
    {
     "name": "stdout",
     "output_type": "stream",
     "text": [
      "Best solution :  [[[ 3.11683149 -3.28058987  3.91321954 -9.99300362]]]\n",
      "Best solution fitness :  [74.6953893]\n"
     ]
    }
   ],
   "source": [
    "#Calculate fitness of final generation\n",
    "fitness = calculate_fitness(inputs, new_population)\n",
    "\n",
    "# Get most fit solution of final generation\n",
    "most_fit_index = np.where(fitness == np.max(fitness))\n",
    "\n",
    "#Print out the best solution \n",
    "print(\"Best solution : \", new_population[most_fit_index, :])\n",
    "print(\"Best solution fitness : \", fitness[most_fit_index])"
   ]
  },
  {
   "cell_type": "markdown",
   "metadata": {},
   "source": [
    "  "
   ]
  },
  {
   "cell_type": "markdown",
   "metadata": {},
   "source": [
    "There you have it, genetic algorithm simplified from scratch. "
   ]
  },
  {
   "cell_type": "code",
   "execution_count": null,
   "metadata": {},
   "outputs": [],
   "source": []
  },
  {
   "cell_type": "code",
   "execution_count": null,
   "metadata": {},
   "outputs": [],
   "source": []
  }
 ],
 "metadata": {
  "kernelspec": {
   "display_name": "MLMIC24",
   "language": "python",
   "name": "python3"
  },
  "language_info": {
   "codemirror_mode": {
    "name": "ipython",
    "version": 3
   },
   "file_extension": ".py",
   "mimetype": "text/x-python",
   "name": "python",
   "nbconvert_exporter": "python",
   "pygments_lexer": "ipython3",
   "version": "3.10.13"
  }
 },
 "nbformat": 4,
 "nbformat_minor": 2
}
