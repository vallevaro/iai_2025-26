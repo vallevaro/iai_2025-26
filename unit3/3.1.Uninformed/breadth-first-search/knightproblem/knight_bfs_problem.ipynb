{
 "cells": [
  {
   "cell_type": "markdown",
   "id": "ed177d9b",
   "metadata": {},
   "source": [
    "\n",
    "# 🧩 Puzzle: Knight’s Shortest Path (Chess Puzzle)\n",
    "\n",
    "## Problem Statement\n",
    "\n",
    "On a standard 8×8 chessboard, a **knight** starts at a given square and must reach a target square.  \n",
    "You need to find the **minimum number of moves** the knight needs, using **Breadth-First Search (BFS)**.  \n",
    "\n",
    "---\n",
    "\n",
    "## Rules\n",
    "- A knight moves in an “L” shape: 2 squares in one direction + 1 in a perpendicular direction.  \n",
    "- BFS should be used because it guarantees the shortest path in an unweighted grid.  \n",
    "\n",
    "---\n",
    "\n",
    "## Input Example\n",
    "```python\n",
    "start = (0, 0)   # top-left corner\n",
    "goal = (7, 7)   # bottom-right corner\n",
    "```\n",
    "\n",
    "---\n",
    "\n",
    "## Expected Output Example\n",
    "```\n",
    "Knight moves from (0, 0) to (7, 7) in 6 moves.\n",
    "Path: [(0, 0), (2, 1), (4, 2), (6, 3), (7, 5), (5, 6), (7, 7)]\n",
    "```\n",
    "\n",
    "---\n",
    "\n",
    "## Task for Students\n",
    "1. Implement BFS to solve this problem.  \n",
    "2. Use a queue (`collections.deque`) to explore moves.  \n",
    "3. Keep a `visited` set to avoid revisiting positions.  \n",
    "4. Store parent links to reconstruct the path.  \n",
    "5. Print the number of moves and the path from start to goal.  \n",
    "\n",
    "---\n",
    "\n",
    "### Skeleton Code\n",
    "\n",
    "```python\n",
    "from collections import deque\n",
    "\n",
    "def knight_shortest_path(start, goal, N=8):\n",
    "    '''\n",
    "    Find the shortest path for a knight on an N×N board using BFS.\n",
    "    '''\n",
    "    # TODO: implement BFS here\n",
    "    pass\n",
    "\n",
    "# Example test\n",
    "start, goal = (0,0), (7,7)\n",
    "path = knight_shortest_path(start, goal)\n",
    "print(f\"Knight moves from {start} to {goal} in {len(path)-1} moves.\")\n",
    "print(\"Path:\", path)\n",
    "```\n"
   ]
  },
  {
   "cell_type": "markdown",
   "id": "a01ff3a2",
   "metadata": {},
   "source": [
    "---"
   ]
  }
 ],
 "metadata": {
  "kernelspec": {
   "display_name": "iaenv",
   "language": "python",
   "name": "python3"
  },
  "language_info": {
   "codemirror_mode": {
    "name": "ipython",
    "version": 3
   },
   "file_extension": ".py",
   "mimetype": "text/x-python",
   "name": "python",
   "nbconvert_exporter": "python",
   "pygments_lexer": "ipython3",
   "version": "3.11.3"
  }
 },
 "nbformat": 4,
 "nbformat_minor": 5
}
