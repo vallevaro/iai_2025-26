{
 "cells": [
  {
   "cell_type": "markdown",
   "metadata": {},
   "source": [
    "**BFS Algorithm:**\n",
    "\n",
    "1. Starting point: Pick a starting node.\n",
    "2. Queueing nodes: Enqueue the starting node and mark it as visited.\n",
    "3. Exploring nodes: Dequeue a node, examine its unvisited neighbors, and enqueue them.\n",
    "4. Expand: Repeat until all reachable nodes are explored.\n"
   ]
  },
  {
   "cell_type": "code",
   "execution_count": null,
   "metadata": {},
   "outputs": [],
   "source": [
    "from collections import deque\n",
    "\n",
    "def bfs(graph, start_node, goal_node):\n",
    "    \"\"\"\n",
    "    BFS with goal check.\n",
    "    \"\"\"\n",
    "    visited = set([start_node])\n",
    "    queue = deque([start_node])\n",
    "    parent = {start_node: None}  # for path reconstruction\n",
    "\n",
    "    while queue:\n",
    "        current_node = queue.popleft()\n",
    "        print(f\"Visiting node: {current_node}\")\n",
    "\n",
    "        # Goal test\n",
    "        if current_node == goal_node:\n",
    "            print(\"Goal found!\")\n",
    "            # reconstruct path from start to goal\n",
    "            path = []\n",
    "            while current_node is not None:\n",
    "                path.append(current_node)\n",
    "                current_node = parent[current_node]\n",
    "            return list(reversed(path))\n",
    "\n",
    "        else:\n",
    "            for neighbor in graph[current_node]:\n",
    "                if neighbor not in visited:\n",
    "                    visited.add(neighbor)\n",
    "                    parent[neighbor] = current_node\n",
    "                    queue.append(neighbor)\n",
    "\n",
    "    return None  # goal not found"
   ]
  },
  {
   "cell_type": "code",
   "execution_count": 2,
   "metadata": {},
   "outputs": [],
   "source": [
    "start_node = 'D'\n",
    "parent = {start_node: None} "
   ]
  },
  {
   "cell_type": "code",
   "execution_count": 4,
   "metadata": {},
   "outputs": [
    {
     "name": "stdout",
     "output_type": "stream",
     "text": [
      "None\n"
     ]
    }
   ],
   "source": [
    "print(parent['D'])"
   ]
  },
  {
   "cell_type": "code",
   "execution_count": 11,
   "metadata": {},
   "outputs": [],
   "source": [
    "import networkx as nx\n",
    "import matplotlib.pyplot as plt"
   ]
  },
  {
   "cell_type": "code",
   "execution_count": 5,
   "metadata": {},
   "outputs": [],
   "source": [
    "graph = {'A': set(['B', 'C']),\n",
    "         'B': set(['A', 'D', 'E']),\n",
    "         'C': set(['A', 'F']),\n",
    "         'D': set(['B']),\n",
    "         'E': set(['B', 'F']),\n",
    "         'F': set(['C', 'E'])}\n",
    "#print(graph)"
   ]
  },
  {
   "cell_type": "code",
   "execution_count": 7,
   "metadata": {},
   "outputs": [
    {
     "data": {
      "text/plain": [
       "{'B', 'F'}"
      ]
     },
     "execution_count": 7,
     "metadata": {},
     "output_type": "execute_result"
    }
   ],
   "source": [
    "graph['E']"
   ]
  },
  {
   "cell_type": "code",
   "execution_count": null,
   "metadata": {},
   "outputs": [],
   "source": []
  },
  {
   "cell_type": "code",
   "execution_count": 15,
   "metadata": {},
   "outputs": [
    {
     "data": {
      "image/png": "[encoded data removed]",
      "text/plain": [
       "<Figure size 600x600 with 1 Axes>"
      ]
     },
     "metadata": {},
     "output_type": "display_data"
    }
   ],
   "source": [
    "start_node = 'D'\n",
    "goal_node = 'C'\n",
    "\n",
    "G = nx.Graph(graph)\n",
    "\n",
    "# Assign colors\n",
    "colors = []\n",
    "for node in G.nodes():\n",
    "    if node == start_node:\n",
    "        colors.append(\"lightgreen\")   # start node\n",
    "    elif node == goal_node:\n",
    "        colors.append(\"lightcoral\")   # goal node\n",
    "    else:\n",
    "        colors.append(\"lightblue\")    # all others\n",
    "\n",
    "# Draw\n",
    "plt.figure(figsize=(6, 6))\n",
    "nx.draw(\n",
    "    G,\n",
    "    pos=nx.spring_layout(G, seed=42),  # layout\n",
    "    with_labels=True,\n",
    "    font_size=20,\n",
    "    node_size=2000,\n",
    "    node_color=colors,\n",
    "    edge_color=\"gray\"\n",
    ")\n",
    "plt.show()"
   ]
  },
  {
   "cell_type": "markdown",
   "metadata": {},
   "source": [
    "---"
   ]
  },
  {
   "cell_type": "code",
   "execution_count": 16,
   "metadata": {},
   "outputs": [
    {
     "name": "stdout",
     "output_type": "stream",
     "text": [
      "Visiting node: D\n",
      "Visiting node: B\n",
      "Visiting node: E\n",
      "Visiting node: A\n",
      "Visiting node: F\n",
      "Visiting node: C\n",
      "Goal found!\n",
      "Path: ['D', 'B', 'A', 'C']\n"
     ]
    }
   ],
   "source": [
    "path = bfs(graph, start_node, goal_node)\n",
    "print(\"Path:\", path)"
   ]
  },
  {
   "cell_type": "code",
   "execution_count": null,
   "metadata": {},
   "outputs": [],
   "source": []
  }
 ],
 "metadata": {
  "kernelspec": {
   "display_name": "iaenv",
   "language": "python",
   "name": "python3"
  },
  "language_info": {
   "codemirror_mode": {
    "name": "ipython",
    "version": 3
   },
   "file_extension": ".py",
   "mimetype": "text/x-python",
   "name": "python",
   "nbconvert_exporter": "python",
   "pygments_lexer": "ipython3",
   "version": "3.11.3"
  }
 },
 "nbformat": 4,
 "nbformat_minor": 2
}
