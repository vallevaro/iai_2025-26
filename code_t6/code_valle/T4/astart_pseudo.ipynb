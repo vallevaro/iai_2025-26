{
 "cells": [
  {
   "cell_type": "markdown",
   "metadata": {},
   "source": [
    "A* Search"
   ]
  },
  {
   "cell_type": "markdown",
   "metadata": {},
   "source": [
    "At a high level, A* algorithm works as follows:\n",
    "\n",
    "1. Initialize open and closed list of nodes\n",
    "\n",
    "2 .Set starting node as current node\n",
    "\n",
    "3. Loop until solution found:\n",
    "\n",
    "        Check solution not found\n",
    "\n",
    "        Consider current node’s neighbors\n",
    "\n",
    "        Add neighbors to open list\n",
    "\n",
    "        Set f-cost for each neighbor (g+h)\n",
    "\n",
    "        Sort open list by lowest f-cost\n",
    "\n",
    "        Set lowest f-cost node as current node\n",
    "\n",
    "        Move current node to closed list\n",
    "\n",
    "4. Reconstruct path by traversing pointers backwards from goal\n",
    "\n",
    "Where:\n",
    "\n",
    "     - g = cost to move from starting point to current node\n",
    "\n",
    "     - h = estimated cost to move from current node to goal (heuristic)\n",
    "\n",
    "     - f = total estimated cost of path through node (f=g+h)\n",
    "     \n"
   ]
  },
  {
   "cell_type": "code",
   "execution_count": null,
   "metadata": {},
   "outputs": [],
   "source": []
  }
 ],
 "metadata": {
  "language_info": {
   "name": "python"
  }
 },
 "nbformat": 4,
 "nbformat_minor": 2
}
