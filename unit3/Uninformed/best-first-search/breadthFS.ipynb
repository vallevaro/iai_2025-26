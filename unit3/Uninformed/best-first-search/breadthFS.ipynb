{
 "cells": [
  {
   "cell_type": "markdown",
   "id": "6597010c",
   "metadata": {},
   "source": [
    "**Breadth-First Search**"
   ]
  },
  {
   "cell_type": "markdown",
   "id": "b8e40a8d",
   "metadata": {},
   "source": [
    "- *Step 1: Enqueue the starting node*:\n",
    "\n",
    "    The first step is to enqueue the starting node into a queue data structure. This node is marked as visited so that it’s not revisited later.\n",
    "\n",
    "- *Step 2: Dequeue a node and mark it as visited*:\n",
    "\n",
    "    In this step, we dequeue a node from the queue and mark it as visited. We then process this node.\n",
    "\n",
    "- *Step 3: Enqueue all adjacent nodes of the dequeued node that are not yet visited*:\n",
    "\n",
    "    We then enqueue all the adjacent nodes of the dequeued node that have not been visited yet. These nodes are added to the end of the queue.\n",
    "\n",
    "- *Step 4: Repeat steps 2-3 until the queue is empty*:\n",
    "\n",
    "    We repeat steps 2 and 3 until there are no more nodes left in the queue. This means that we have visited all the nodes in the graph.\n"
   ]
  },
  {
   "cell_type": "code",
   "execution_count": null,
   "id": "56fac2af",
   "metadata": {},
   "outputs": [],
   "source": []
  }
 ],
 "metadata": {
  "language_info": {
   "name": "python"
  }
 },
 "nbformat": 4,
 "nbformat_minor": 5
}
