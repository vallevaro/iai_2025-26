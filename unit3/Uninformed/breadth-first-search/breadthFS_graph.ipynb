{
 "cells": [
  {
   "cell_type": "markdown",
   "metadata": {},
   "source": [
    "**2. Build BDF and expand**"
   ]
  },
  {
   "cell_type": "markdown",
   "metadata": {},
   "source": [
    "**BFS Algorithm:**\n",
    "\n",
    "1. Starting point: Pick a starting node.\n",
    "2. Queueing nodes: Enqueue the starting node and mark it as visited.\n",
    "3. Exploring nodes: Dequeue a node, examine its unvisited neighbors, and enqueue them.\n",
    "4. Expand: Repeat until all reachable nodes are explored.\n"
   ]
  },
  {
   "cell_type": "code",
   "execution_count": 2,
   "metadata": {},
   "outputs": [],
   "source": [
    "import networkx as nx\n",
    "import matplotlib as plt"
   ]
  },
  {
   "cell_type": "code",
   "execution_count": 3,
   "metadata": {},
   "outputs": [],
   "source": [
    "graph = {'A': set(['B', 'C']),\n",
    "         'B': set(['A', 'D', 'E']),\n",
    "         'C': set(['A', 'F']),\n",
    "         'D': set(['B']),\n",
    "         'E': set(['B', 'F']),\n",
    "         'F': set(['C', 'E'])}"
   ]
  },
  {
   "cell_type": "code",
   "execution_count": 4,
   "metadata": {},
   "outputs": [
    {
     "name": "stdout",
     "output_type": "stream",
     "text": [
      "{'A': {'C', 'B'}, 'B': {'E', 'A', 'D'}, 'C': {'F', 'A'}, 'D': {'B'}, 'E': {'F', 'B'}, 'F': {'E', 'C'}}\n"
     ]
    }
   ],
   "source": [
    "print(graph)"
   ]
  },
  {
   "cell_type": "code",
   "execution_count": 5,
   "metadata": {},
   "outputs": [],
   "source": [
    "G = nx.Graph(graph)"
   ]
  },
  {
   "cell_type": "code",
   "execution_count": 12,
   "metadata": {},
   "outputs": [
    {
     "data": {
      "image/png": "[encoded data removed]",
      "text/plain": [
       "<Figure size 640x480 with 1 Axes>"
      ]
     },
     "metadata": {},
     "output_type": "display_data"
    }
   ],
   "source": [
    "nx.draw(G, pos = None, ax = None, with_labels = True,font_size = 20, node_size = 2000)"
   ]
  },
  {
   "cell_type": "markdown",
   "metadata": {},
   "source": [
    "**BEARTH FIRST ALGORITHM (BFT)**"
   ]
  },
  {
   "cell_type": "code",
   "execution_count": 7,
   "metadata": {},
   "outputs": [],
   "source": [
    "def bfs(graph, start):\n",
    "    # Initialize an empty set to keep track of visited vertices\n",
    "    # Initialize the queue with the start vertex to begin the BFS\n",
    "    visited, queue = set(), [start]\n",
    "\n",
    "    # Loop while there are vertices to explore in the queue\n",
    "    while queue:\n",
    "        # Dequeue the first element (FIFO: First In, First Out)\n",
    "        vertex = queue.pop(0)\n",
    "        \n",
    "        # Print the current vertex (for demonstration purposes)\n",
    "        print(vertex)\n",
    "\n",
    "        # If the vertex hasn't been visited yet\n",
    "        if vertex not in visited:\n",
    "            # Add the vertex to the visited set\n",
    "            visited.add(vertex)\n",
    "            \n",
    "            # Add all unvisited neighbors of the current vertex to the end of the queue\n",
    "            # 'graph[vertex]' gives the neighbors, and we subtract the visited ones\n",
    "            queue.extend(graph[vertex] - visited)\n",
    "\n",
    "    # Return the set of visited vertices after the traversal is complete\n",
    "    return visited\n"
   ]
  },
  {
   "cell_type": "code",
   "execution_count": 8,
   "metadata": {},
   "outputs": [
    {
     "name": "stdout",
     "output_type": "stream",
     "text": [
      "B\n",
      "E\n",
      "A\n",
      "D\n",
      "F\n",
      "C\n",
      "C\n"
     ]
    },
    {
     "data": {
      "text/plain": [
       "{'A', 'B', 'C', 'D', 'E', 'F'}"
      ]
     },
     "execution_count": 8,
     "metadata": {},
     "output_type": "execute_result"
    }
   ],
   "source": [
    "bfs(graph, 'B')"
   ]
  },
  {
   "cell_type": "markdown",
   "metadata": {},
   "source": [
    "---"
   ]
  },
  {
   "cell_type": "code",
   "execution_count": 9,
   "metadata": {},
   "outputs": [
    {
     "name": "stdout",
     "output_type": "stream",
     "text": [
      "Visiting node: B\n",
      "Visiting node: D\n",
      "Visiting node: E\n",
      "Visiting node: F\n",
      "BFS traversal order: ['B', 'D', 'E', 'F']\n"
     ]
    }
   ],
   "source": [
    "from collections import deque\n",
    "\n",
    "def bfs(graph, start_node):\n",
    "    \"\"\"\n",
    "    Perform Breadth-First Search (BFS) on a graph using Python's deque.\n",
    "    \n",
    "    Args:\n",
    "        graph (dict): adjacency list representation of the graph\n",
    "        start_node (str): starting node for the BFS traversal\n",
    "    \n",
    "    Returns:\n",
    "        list: the order of nodes visited\n",
    "    \"\"\"\n",
    "\n",
    "    # Keep track of visited nodes (to avoid revisiting them)\n",
    "    visited = set()\n",
    "    \n",
    "    # Initialize the queue with the start node\n",
    "    # deque allows O(1) enqueue (append) and dequeue (popleft)\n",
    "    queue = deque([start_node])\n",
    "    visited.add(start_node)\n",
    "\n",
    "    # To record the BFS traversal order\n",
    "    bfs_order = []\n",
    "\n",
    "    # Loop until there are no nodes left in the queue\n",
    "    while queue:\n",
    "        # Dequeue from the left (FIFO order)\n",
    "        current_node = queue.popleft()\n",
    "        bfs_order.append(current_node)\n",
    "        print(f\"Visiting node: {current_node}\")\n",
    "\n",
    "        # Explore neighbors of the current node\n",
    "        for neighbor in graph[current_node]:\n",
    "            if neighbor not in visited:\n",
    "                # Enqueue unseen neighbors to the right of the queue\n",
    "                queue.append(neighbor)\n",
    "                visited.add(neighbor)  # Mark neighbor as visited\n",
    "    \n",
    "    return bfs_order\n",
    "\n",
    "\n",
    "# Example graph represented as an adjacency list\n",
    "graph = {\n",
    "    'A': ['B', 'C'],\n",
    "    'B': ['D', 'E'],\n",
    "    'C': ['F'],\n",
    "    'D': [],\n",
    "    'E': ['F'],\n",
    "    'F': []\n",
    "}\n",
    "\n",
    "# Run BFS starting from node 'A'\n",
    "bfs_result = bfs(graph, 'B')\n",
    "print(f\"BFS traversal order: {bfs_result}\")\n"
   ]
  },
  {
   "cell_type": "code",
   "execution_count": null,
   "metadata": {},
   "outputs": [],
   "source": []
  }
 ],
 "metadata": {
  "kernelspec": {
   "display_name": "IA2425",
   "language": "python",
   "name": "python3"
  },
  "language_info": {
   "codemirror_mode": {
    "name": "ipython",
    "version": 3
   },
   "file_extension": ".py",
   "mimetype": "text/x-python",
   "name": "python",
   "nbconvert_exporter": "python",
   "pygments_lexer": "ipython3",
   "version": "3.10.14"
  }
 },
 "nbformat": 4,
 "nbformat_minor": 2
}
