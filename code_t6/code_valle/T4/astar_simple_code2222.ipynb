{
 "cells": [
  {
   "cell_type": "markdown",
   "metadata": {},
   "source": [
    "https://www.redblobgames.com/pathfinding/a-star/implementation.html"
   ]
  },
  {
   "cell_type": "code",
   "execution_count": 6,
   "metadata": {},
   "outputs": [],
   "source": [
    "from typing import *\n",
    "\n",
    "Location = TypeVar('Location')\n",
    "class Graph(Protocol):\n",
    "    def neighbors(self, id: Location) -> list[Location]: pass"
   ]
  },
  {
   "cell_type": "code",
   "execution_count": 7,
   "metadata": {},
   "outputs": [],
   "source": [
    "class SimpleGraph:\n",
    "    def __init__(self):\n",
    "        self.edges: dict[Location, list[Location]] = {}\n",
    "    \n",
    "    def neighbors(self, id: Location) -> list[Location]:\n",
    "        return self.edges[id]"
   ]
  },
  {
   "cell_type": "code",
   "execution_count": 8,
   "metadata": {},
   "outputs": [],
   "source": [
    "example_graph = SimpleGraph()\n",
    "example_graph.edges = {\n",
    "    'A': ['B'],\n",
    "    'B': ['C'],\n",
    "    'C': ['B', 'D', 'F'],\n",
    "    'D': ['C', 'E'],\n",
    "    'E': ['F'],\n",
    "    'F': [],\n",
    "}"
   ]
  },
  {
   "cell_type": "code",
   "execution_count": 9,
   "metadata": {},
   "outputs": [],
   "source": [
    "import collections\n",
    "\n",
    "class Queue:\n",
    "    def __init__(self):\n",
    "        self.elements = collections.deque()\n",
    "    \n",
    "    def empty(self) -> bool:\n",
    "        return not self.elements\n",
    "    \n",
    "    def put(self, x):\n",
    "        self.elements.append(x)\n",
    "    \n",
    "    def get(self):\n",
    "        return self.elements.popleft()"
   ]
  },
  {
   "cell_type": "code",
   "execution_count": 10,
   "metadata": {},
   "outputs": [
    {
     "name": "stdout",
     "output_type": "stream",
     "text": [
      "Reachable from A:\n",
      "  Visiting A\n",
      "  Visiting B\n",
      "  Visiting C\n",
      "  Visiting D\n",
      "  Visiting F\n",
      "  Visiting E\n",
      "Reachable from E:\n",
      "  Visiting E\n",
      "  Visiting F\n"
     ]
    }
   ],
   "source": [
    "def breadth_first_search(graph, start):\n",
    "    # print out what we find\n",
    "    frontier = Queue()\n",
    "    frontier.put(start)\n",
    "    reached: set[Location] = set()\n",
    "    reached.add(start)\n",
    "    \n",
    "    while not frontier.empty():\n",
    "        current: Location = frontier.get()\n",
    "        print(\"  Visiting %s\" % current)\n",
    "        for next in graph.neighbors(current):\n",
    "            if next not in reached:\n",
    "                frontier.put(next)\n",
    "                reached.add(next)\n",
    "\n",
    "print('Reachable from A:')\n",
    "breadth_first_search(example_graph, 'A')\n",
    "print('Reachable from E:')\n",
    "breadth_first_search(example_graph, 'E')"
   ]
  },
  {
   "cell_type": "code",
   "execution_count": 11,
   "metadata": {},
   "outputs": [],
   "source": [
    "GridLocation = Tuple[int, int]\n",
    "\n",
    "class SquareGrid:\n",
    "    def __init__(self, width: int, height: int):\n",
    "        self.width = width\n",
    "        self.height = height\n",
    "        self.walls: list[GridLocation] = []\n",
    "    \n",
    "    def in_bounds(self, id: GridLocation) -> bool:\n",
    "        (x, y) = id\n",
    "        return 0 <= x < self.width and 0 <= y < self.height\n",
    "    \n",
    "    def passable(self, id: GridLocation) -> bool:\n",
    "        return id not in self.walls\n",
    "    \n",
    "    def neighbors(self, id: GridLocation) -> Iterator[GridLocation]:\n",
    "        (x, y) = id\n",
    "        neighbors = [(x+1, y), (x-1, y), (x, y-1), (x, y+1)] # E W N S\n",
    "        # see \"Ugly paths\" section for an explanation:\n",
    "        if (x + y) % 2 == 0: neighbors.reverse() # S N W E\n",
    "        results = filter(self.in_bounds, neighbors)\n",
    "        results = filter(self.passable, results)\n",
    "        return results"
   ]
  },
  {
   "cell_type": "code",
   "execution_count": 12,
   "metadata": {},
   "outputs": [
    {
     "ename": "NameError",
     "evalue": "name 'DIAGRAM1_WALLS' is not defined",
     "output_type": "error",
     "traceback": [
      "\u001b[1;31m---------------------------------------------------------------------------\u001b[0m",
      "\u001b[1;31mNameError\u001b[0m                                 Traceback (most recent call last)",
      "Cell \u001b[1;32mIn[12], line 2\u001b[0m\n\u001b[0;32m      1\u001b[0m g \u001b[38;5;241m=\u001b[39m SquareGrid(\u001b[38;5;241m30\u001b[39m, \u001b[38;5;241m15\u001b[39m)\n\u001b[1;32m----> 2\u001b[0m g\u001b[38;5;241m.\u001b[39mwalls \u001b[38;5;241m=\u001b[39m \u001b[43mDIAGRAM1_WALLS\u001b[49m \u001b[38;5;66;03m# long list, [(21, 0), (21, 2), ...]\u001b[39;00m\n\u001b[0;32m      3\u001b[0m draw_grid(g)\n",
      "\u001b[1;31mNameError\u001b[0m: name 'DIAGRAM1_WALLS' is not defined"
     ]
    }
   ],
   "source": [
    "g = SquareGrid(30, 15)\n",
    "g.walls = DIAGRAM1_WALLS # long list, [(21, 0), (21, 2), ...]\n",
    "draw_grid(g)"
   ]
  },
  {
   "cell_type": "code",
   "execution_count": null,
   "metadata": {},
   "outputs": [],
   "source": []
  }
 ],
 "metadata": {
  "kernelspec": {
   "display_name": "IA2425",
   "language": "python",
   "name": "python3"
  },
  "language_info": {
   "codemirror_mode": {
    "name": "ipython",
    "version": 3
   },
   "file_extension": ".py",
   "mimetype": "text/x-python",
   "name": "python",
   "nbconvert_exporter": "python",
   "pygments_lexer": "ipython3",
   "version": "3.10.14"
  }
 },
 "nbformat": 4,
 "nbformat_minor": 2
}
