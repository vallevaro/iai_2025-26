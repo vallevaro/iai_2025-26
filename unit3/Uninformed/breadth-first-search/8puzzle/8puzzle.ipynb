{
 "cells": [
  {
   "cell_type": "code",
   "execution_count": 4,
   "metadata": {},
   "outputs": [
    {
     "data": {
      "text/plain": [
       "range(0, 9)"
      ]
     },
     "execution_count": 4,
     "metadata": {},
     "output_type": "execute_result"
    }
   ],
   "source": [
    "range(1,1)"
   ]
  },
  {
   "cell_type": "code",
   "execution_count": 1,
   "metadata": {},
   "outputs": [
    {
     "name": "stdout",
     "output_type": "stream",
     "text": [
      "(1, 2, 3, 4, 5, 6, 0, 7, 8)\n",
      "(1, 2, 3, 4, 5, 6, 7, 0, 8)\n",
      "(1, 2, 3, 4, 5, 6, 7, 8, 0)\n"
     ]
    }
   ],
   "source": [
    "from collections import deque\n",
    "\n",
    "# Function to check if the puzzle is solvable\n",
    "def is_solvable(state):\n",
    "    inv_count = 0\n",
    "    puzzle = [tile for tile in state if tile != 0]  # Ignore the blank space\n",
    "    for i in range(len(puzzle)):\n",
    "        for j in range(i + 1, len(puzzle)):\n",
    "            if puzzle[i] > puzzle[j]:\n",
    "                inv_count += 1\n",
    "    return inv_count % 2 == 0\n",
    "\n",
    "# Function to get the possible moves from the current state\n",
    "def get_next_states(state):\n",
    "    # Possible moves for empty space (0)\n",
    "    next_states = []\n",
    "    zero_index = state.index(0)\n",
    "    \n",
    "    # The row and column of the empty space\n",
    "    row, col = divmod(zero_index, 3)\n",
    "    \n",
    "    # Move directions: up, down, left, right\n",
    "    move_offsets = [(-1, 0), (1, 0), (0, -1), (0, 1)]\n",
    "    \n",
    "    for row_offset, col_offset in move_offsets:\n",
    "        new_row, new_col = row + row_offset, col + col_offset\n",
    "        if 0 <= new_row < 3 and 0 <= new_col < 3:\n",
    "            # Calculate the new index after the move\n",
    "            new_zero_index = new_row * 3 + new_col\n",
    "            new_state = list(state)\n",
    "            # Swap the empty space (0) with the target tile\n",
    "            new_state[zero_index], new_state[new_zero_index] = new_state[new_zero_index], new_state[zero_index]\n",
    "            next_states.append(tuple(new_state))  # Use tuple to keep it hashable\n",
    "    \n",
    "    return next_states\n",
    "\n",
    "# BFS function to solve the 8 puzzle\n",
    "def bfs(start_state, goal_state):\n",
    "    if not is_solvable(start_state):\n",
    "        return None  # The puzzle is unsolvable\n",
    "\n",
    "    # Create a queue for BFS and a set to track visited states\n",
    "    queue = deque([(start_state, [])])  # (current state, path to the state)\n",
    "    visited = set()\n",
    "    visited.add(tuple(start_state))\n",
    "    \n",
    "    while queue:\n",
    "        current_state, path = queue.popleft()\n",
    "        \n",
    "        # Check if we reached the goal state\n",
    "        if current_state == goal_state:\n",
    "            return path + [current_state]  # Return the path\n",
    "        \n",
    "        # Get the next valid states\n",
    "        for next_state in get_next_states(current_state):\n",
    "            if next_state not in visited:\n",
    "                visited.add(next_state)\n",
    "                queue.append((next_state, path + [current_state]))\n",
    "    \n",
    "    return None  # No solution found\n",
    "\n",
    "# Initial state (start_state can be any valid puzzle configuration)\n",
    "# start_state = (1, 2, 3, 4, 0, 5, 6, 7, 8)\n",
    "start_state = (1, 2, 3, 4, 5, 6, 0, 7, 8)\n",
    "\n",
    "# Goal state (this is the ordered state we want to reach)\n",
    "goal_state = (1, 2, 3, 4, 5, 6, 7, 8, 0)\n",
    "\n",
    "# Solve the 8-puzzle\n",
    "solution = bfs(start_state, goal_state)\n",
    "\n",
    "# Display the solution\n",
    "if solution:\n",
    "    for step in solution:\n",
    "        print(step)\n",
    "else:\n",
    "    print(\"No solution found or the puzzle is unsolvable.\")\n"
   ]
  },
  {
   "cell_type": "code",
   "execution_count": null,
   "metadata": {},
   "outputs": [],
   "source": []
  }
 ],
 "metadata": {
  "kernelspec": {
   "display_name": "envml3",
   "language": "python",
   "name": "python3"
  },
  "language_info": {
   "codemirror_mode": {
    "name": "ipython",
    "version": 3
   },
   "file_extension": ".py",
   "mimetype": "text/x-python",
   "name": "python",
   "nbconvert_exporter": "python",
   "pygments_lexer": "ipython3",
   "version": "3.11.7"
  }
 },
 "nbformat": 4,
 "nbformat_minor": 2
}
